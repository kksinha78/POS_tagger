{
  "cells": [
    {
      "cell_type": "markdown",
      "metadata": {
        "id": "K71LWjWcfhvT"
      },
      "source": [
        "# POS Tagging - An Overview"
      ]
    },
    {
      "cell_type": "markdown",
      "metadata": {
        "id": "XuzpepTkfhvW"
      },
      "source": [
        "The process of classifying words into their __parts of speech__ and labeling them accordingly is known as **part-of-speech tagging**, or simply **POS-tagging**.\n",
        "\n",
        "The NLTK library has a number of corpora which contains word and its POS tag. The following table provide information about each tag:\n",
        "\n",
        "![POS tags](./jupyter resources/pos_tagging.png)"
      ]
    },
    {
      "cell_type": "markdown",
      "metadata": {
        "id": "-Hsir-dcfhvX"
      },
      "source": [
        "# Notebook layout\n",
        "1. Preprocess data\n",
        "2. Vanilla RNN\n",
        "3. Word Embeddings\n",
        "4. LSTM\n",
        "5. GRU\n",
        "6. Bidirectional LSTM\n",
        "7. Model Evaluation"
      ]
    },
    {
      "cell_type": "code",
      "source": [
        "from google.colab import drive\n",
        "drive.mount('/content/drive')"
      ],
      "metadata": {
        "colab": {
          "base_uri": "https://localhost:8080/"
        },
        "id": "nzgADCthgKBW",
        "outputId": "396f7fc6-0a54-4c7a-9586-963e3d9d1107"
      },
      "execution_count": 1,
      "outputs": [
        {
          "output_type": "stream",
          "name": "stdout",
          "text": [
            "Mounted at /content/drive\n"
          ]
        }
      ]
    },
    {
      "cell_type": "code",
      "source": [
        "path = '/content/drive/My Drive/Colab Notebooks/RNN/POS Tagging Using RNN'"
      ],
      "metadata": {
        "id": "vDaJg66EgX0D"
      },
      "execution_count": 2,
      "outputs": []
    },
    {
      "cell_type": "code",
      "source": [
        "# import necessary libraries\n",
        "import warnings\n",
        "warnings.filterwarnings(\"ignore\")\n",
        "import numpy as np\n",
        "from matplotlib import pyplot as plt\n",
        "\n",
        "from nltk.corpus import brown\n",
        "from nltk.corpus import treebank\n",
        "from nltk.corpus import conll2000\n",
        "\n",
        "import seaborn as sns\n",
        "from gensim.models import keyedvectors #Gensim is a free open-source Python library for representing documents as semantic vectors\n",
        "from tensorflow.keras.preprocessing.sequence import pad_sequences\n",
        "from tensorflow.keras.utils import to_categorical\n",
        "from tensorflow.keras import Sequential,Input, Model\n",
        "from tensorflow.keras.layers import Embedding,Dense,TimeDistributed,LSTM,GRU,Bidirectional,SimpleRNN,RNN\n",
        "from tensorflow.keras.preprocessing.text import Tokenizer\n",
        "\n",
        "from sklearn.model_selection import train_test_split\n",
        "from sklearn.utils import shuffle"
      ],
      "metadata": {
        "id": "3x9ldqom4znF"
      },
      "execution_count": 3,
      "outputs": []
    },
    {
      "cell_type": "markdown",
      "metadata": {
        "id": "HxOk7XNIfhvY"
      },
      "source": [
        "# 1. Preprocess data"
      ]
    },
    {
      "cell_type": "markdown",
      "metadata": {
        "id": "sT9gr9BSfhvY"
      },
      "source": [
        "## Load data"
      ]
    },
    {
      "cell_type": "code",
      "execution_count": 4,
      "metadata": {
        "id": "wPyr0zknfhvZ",
        "colab": {
          "base_uri": "https://localhost:8080/"
        },
        "outputId": "b6ce407c-22ea-451a-9a83-adff77baa896"
      },
      "outputs": [
        {
          "output_type": "stream",
          "name": "stderr",
          "text": [
            "[nltk_data] Downloading package treebank to /root/nltk_data...\n",
            "[nltk_data]   Unzipping corpora/treebank.zip.\n",
            "[nltk_data] Downloading package brown to /root/nltk_data...\n",
            "[nltk_data]   Unzipping corpora/brown.zip.\n",
            "[nltk_data] Downloading package conll2000 to /root/nltk_data...\n",
            "[nltk_data]   Unzipping corpora/conll2000.zip.\n",
            "[nltk_data] Downloading package universal_tagset to /root/nltk_data...\n",
            "[nltk_data]   Unzipping taggers/universal_tagset.zip.\n"
          ]
        }
      ],
      "source": [
        "import nltk\n",
        "nltk.download('treebank')\n",
        "nltk.download('brown')\n",
        "nltk.download('conll2000')\n",
        "nltk.download('universal_tagset')\n",
        "\n",
        "# load POS tagged corpora from NLTK\n",
        "treebank_corpus = treebank.tagged_sents(tagset='universal')\n",
        "brown_corpus = brown.tagged_sents(tagset='universal')\n",
        "conll_corpus = conll2000.tagged_sents(tagset='universal')\n",
        "tagged_sentences = treebank_corpus + brown_corpus + conll_corpus"
      ]
    },
    {
      "cell_type": "code",
      "execution_count": 5,
      "metadata": {
        "id": "p1gYX-JKfhvZ",
        "colab": {
          "base_uri": "https://localhost:8080/"
        },
        "outputId": "29845c20-55c2-443a-b829-ee8c4a342a7c"
      },
      "outputs": [
        {
          "output_type": "execute_result",
          "data": {
            "text/plain": [
              "[('``', '.'),\n",
              " ('We', 'PRON'),\n",
              " ('have', 'VERB'),\n",
              " ('no', 'DET'),\n",
              " ('useful', 'ADJ'),\n",
              " ('information', 'NOUN'),\n",
              " ('on', 'ADP'),\n",
              " ('whether', 'ADP'),\n",
              " ('users', 'NOUN'),\n",
              " ('are', 'VERB'),\n",
              " ('at', 'ADP'),\n",
              " ('risk', 'NOUN'),\n",
              " (',', '.'),\n",
              " (\"''\", '.'),\n",
              " ('said', 'VERB'),\n",
              " ('*T*-1', 'X'),\n",
              " ('James', 'NOUN'),\n",
              " ('A.', 'NOUN'),\n",
              " ('Talcott', 'NOUN'),\n",
              " ('of', 'ADP'),\n",
              " ('Boston', 'NOUN'),\n",
              " (\"'s\", 'PRT'),\n",
              " ('Dana-Farber', 'NOUN'),\n",
              " ('Cancer', 'NOUN'),\n",
              " ('Institute', 'NOUN'),\n",
              " ('.', '.')]"
            ]
          },
          "metadata": {},
          "execution_count": 5
        }
      ],
      "source": [
        "# let's look at the data\n",
        "tagged_sentences[11]"
      ]
    },
    {
      "cell_type": "code",
      "source": [
        "tagged_sentences[1]"
      ],
      "metadata": {
        "colab": {
          "base_uri": "https://localhost:8080/"
        },
        "id": "572slmm5HDFD",
        "outputId": "6dcbdae4-b5e7-447d-d10e-0a88bcc56bf8"
      },
      "execution_count": 6,
      "outputs": [
        {
          "output_type": "execute_result",
          "data": {
            "text/plain": [
              "[('Mr.', 'NOUN'),\n",
              " ('Vinken', 'NOUN'),\n",
              " ('is', 'VERB'),\n",
              " ('chairman', 'NOUN'),\n",
              " ('of', 'ADP'),\n",
              " ('Elsevier', 'NOUN'),\n",
              " ('N.V.', 'NOUN'),\n",
              " (',', '.'),\n",
              " ('the', 'DET'),\n",
              " ('Dutch', 'NOUN'),\n",
              " ('publishing', 'VERB'),\n",
              " ('group', 'NOUN'),\n",
              " ('.', '.')]"
            ]
          },
          "metadata": {},
          "execution_count": 6
        }
      ]
    },
    {
      "cell_type": "markdown",
      "metadata": {
        "id": "x8K4tyNcfhvZ"
      },
      "source": [
        "## Divide data in words (X) and tags (Y)"
      ]
    },
    {
      "cell_type": "markdown",
      "metadata": {
        "id": "56IPWg-Hfhva"
      },
      "source": [
        "Since this is a **many-to-many** problem, each data point will be a different sentence of the corpora.\n",
        "\n",
        "Each data point will have multiple words in the **input sequence**. This is what we will refer to as **X**.\n",
        "\n",
        "Each word will have its correpsonding tag in the **output sequence**. This what we will refer to as **Y**.\n",
        "\n",
        "Sample dataset:\n",
        "\n",
        "|                    X                        |                 Y                |\n",
        "|---------------------------------------------|----------------------------------|\n",
        "|   Mr. Vinken is chairman of Elsevier        |   NOUN NOUN VERB NOUN ADP NOUN   |\n",
        "|     We have no useful information           |      PRON VERB DET ADJ NOUN      |"
      ]
    },
    {
      "cell_type": "code",
      "execution_count": 7,
      "metadata": {
        "id": "EKueHMh9fhva"
      },
      "outputs": [],
      "source": [
        "X = [] # store input sequence\n",
        "Y = [] # store output sequence\n",
        "\n",
        "for sentence in tagged_sentences:\n",
        "    X_sentence = []\n",
        "    Y_sentence = []\n",
        "    for entity in sentence:\n",
        "        X_sentence.append(entity[0])  # entity[0] contains the word\n",
        "        Y_sentence.append(entity[1])  # entity[1] contains corresponding tag\n",
        "\n",
        "    X.append(X_sentence)\n",
        "    Y.append(Y_sentence)"
      ]
    },
    {
      "cell_type": "code",
      "source": [
        "len(X)"
      ],
      "metadata": {
        "colab": {
          "base_uri": "https://localhost:8080/"
        },
        "id": "OzF_RD50qXbB",
        "outputId": "be26e65d-61e6-480d-c098-ace5b5225774"
      },
      "execution_count": 8,
      "outputs": [
        {
          "output_type": "execute_result",
          "data": {
            "text/plain": [
              "72202"
            ]
          },
          "metadata": {},
          "execution_count": 8
        }
      ]
    },
    {
      "cell_type": "code",
      "source": [
        "type(X)"
      ],
      "metadata": {
        "colab": {
          "base_uri": "https://localhost:8080/"
        },
        "id": "XPcriaPdq2Sw",
        "outputId": "9244faea-7934-4c4a-a1ca-9b38a654757c"
      },
      "execution_count": 9,
      "outputs": [
        {
          "output_type": "execute_result",
          "data": {
            "text/plain": [
              "list"
            ]
          },
          "metadata": {},
          "execution_count": 9
        }
      ]
    },
    {
      "cell_type": "code",
      "source": [
        "num_wd = len([i for i in X])\n"
      ],
      "metadata": {
        "id": "dZMFDiXeq_1K"
      },
      "execution_count": 10,
      "outputs": []
    },
    {
      "cell_type": "code",
      "source": [
        "num_wd"
      ],
      "metadata": {
        "colab": {
          "base_uri": "https://localhost:8080/"
        },
        "id": "PoUPOAXFrVdQ",
        "outputId": "65041157-e631-47b2-8c1f-a90f7eb5a846"
      },
      "execution_count": 11,
      "outputs": [
        {
          "output_type": "execute_result",
          "data": {
            "text/plain": [
              "72202"
            ]
          },
          "metadata": {},
          "execution_count": 11
        }
      ]
    },
    {
      "cell_type": "code",
      "source": [
        "fruits = [\"apple\", \"banana\", \"cherry\", \"kiwi\", \"mango\"]\n",
        "\n",
        "newlist = [x for x in fruits if \"a\" in x]\n",
        "\n",
        "print(newlist)"
      ],
      "metadata": {
        "colab": {
          "base_uri": "https://localhost:8080/"
        },
        "id": "e1AjRgzxr3uL",
        "outputId": "ae9860e3-65f8-407f-fae4-744e133a4438"
      },
      "execution_count": 12,
      "outputs": [
        {
          "output_type": "stream",
          "name": "stdout",
          "text": [
            "['apple', 'banana', 'mango']\n"
          ]
        }
      ]
    },
    {
      "cell_type": "code",
      "source": [
        "fruits = [\"apple\", \"banana\", \"cherry\", \"kiwi\", \"mango\"]\n",
        "\n",
        "newlist = [i for i in fruits if 'b' in i]\n",
        "\n",
        "print(newlist)"
      ],
      "metadata": {
        "colab": {
          "base_uri": "https://localhost:8080/"
        },
        "id": "fLxpGQHMr7Q3",
        "outputId": "7ddd81aa-7678-4151-e687-21c3fab0fedb"
      },
      "execution_count": 13,
      "outputs": [
        {
          "output_type": "stream",
          "name": "stdout",
          "text": [
            "['banana']\n"
          ]
        }
      ]
    },
    {
      "cell_type": "code",
      "source": [
        "X[0]"
      ],
      "metadata": {
        "colab": {
          "base_uri": "https://localhost:8080/"
        },
        "id": "z0feI0urq4ch",
        "outputId": "7d9c314d-1c93-40fe-9093-ae98c8dabdda"
      },
      "execution_count": 14,
      "outputs": [
        {
          "output_type": "execute_result",
          "data": {
            "text/plain": [
              "['Pierre',\n",
              " 'Vinken',\n",
              " ',',\n",
              " '61',\n",
              " 'years',\n",
              " 'old',\n",
              " ',',\n",
              " 'will',\n",
              " 'join',\n",
              " 'the',\n",
              " 'board',\n",
              " 'as',\n",
              " 'a',\n",
              " 'nonexecutive',\n",
              " 'director',\n",
              " 'Nov.',\n",
              " '29',\n",
              " '.']"
            ]
          },
          "metadata": {},
          "execution_count": 14
        }
      ]
    },
    {
      "cell_type": "code",
      "source": [
        "num_words = len(set([word.lower() for sentence in X for word in sentence]))\n",
        "tag_words = len(set([word.lower() for sentence in Y for word in sentence]))\n",
        "print(\" Total number of tagged sentences: {}\".format(len(X)))\n",
        "print(\" Vocabulary size: {}\".format(num_words))\n",
        "print(\" No of Tags: {}\".format(tag_words))\n"
      ],
      "metadata": {
        "colab": {
          "base_uri": "https://localhost:8080/"
        },
        "id": "_2nCYJ0nvrSl",
        "outputId": "a232119d-3082-48d6-d276-59a6c460fa21"
      },
      "execution_count": 15,
      "outputs": [
        {
          "output_type": "stream",
          "name": "stdout",
          "text": [
            " Total number of tagged sentences: 72202\n",
            " Vocabulary size: 59448\n",
            " No of Tags: 12\n"
          ]
        }
      ]
    },
    {
      "cell_type": "code",
      "execution_count": 16,
      "metadata": {
        "id": "JOZbA3OPfhva",
        "colab": {
          "base_uri": "https://localhost:8080/"
        },
        "outputId": "a27283a4-8048-46cb-edcc-02f0f656c7a9"
      },
      "outputs": [
        {
          "output_type": "stream",
          "name": "stdout",
          "text": [
            "sample X:  ['Pierre', 'Vinken', ',', '61', 'years', 'old', ',', 'will', 'join', 'the', 'board', 'as', 'a', 'nonexecutive', 'director', 'Nov.', '29', '.'] \n",
            "\n",
            "sample Y:  ['NOUN', 'NOUN', '.', 'NUM', 'NOUN', 'ADJ', '.', 'VERB', 'VERB', 'DET', 'NOUN', 'ADP', 'DET', 'ADJ', 'NOUN', 'NOUN', 'NUM', '.'] \n",
            "\n"
          ]
        }
      ],
      "source": [
        "# let's look at first data point\n",
        "# this is one data point that will be fed to the RNN\n",
        "print('sample X: ', X[0], '\\n')\n",
        "print('sample Y: ', Y[0], '\\n')"
      ]
    },
    {
      "cell_type": "code",
      "execution_count": 17,
      "metadata": {
        "id": "1py4H1eJfhva",
        "colab": {
          "base_uri": "https://localhost:8080/"
        },
        "outputId": "4c5e6dc3-db1a-4456-d010-88d64b3e9a87"
      },
      "outputs": [
        {
          "output_type": "stream",
          "name": "stdout",
          "text": [
            "Length of first input sequence  : 13\n",
            "Length of first output sequence : 13\n"
          ]
        }
      ],
      "source": [
        "# In this many-to-many problem, the length of each input and output sequence must be the same.\n",
        "# Since each word is tagged, it's important to make sure that the length of input sequence equals the output sequence\n",
        "print(\"Length of first input sequence  : {}\".format(len(X[1])))\n",
        "print(\"Length of first output sequence : {}\".format(len(Y[1])))"
      ]
    },
    {
      "cell_type": "markdown",
      "metadata": {
        "id": "5c76RK6dfhva"
      },
      "source": [
        "## Vectorise X and Y"
      ]
    },
    {
      "cell_type": "markdown",
      "metadata": {
        "id": "FvNqoeTCfhvb"
      },
      "source": [
        "#### Encode X and Y to integer values\n",
        "\n",
        "We'll use the Tokenizer() function from Keras library to encode text sequence to integer sequence"
      ]
    },
    {
      "cell_type": "code",
      "execution_count": 18,
      "metadata": {
        "id": "IYVr9Ek9fhvb"
      },
      "outputs": [],
      "source": [
        "# encode X\n",
        "\n",
        "word_tokenizer = Tokenizer()                      # instantiate tokeniser\n",
        "word_tokenizer.fit_on_texts(X)                    # fit tokeniser on data\n",
        "X_encoded = word_tokenizer.texts_to_sequences(X)  # use the tokeniser to encode input sequence"
      ]
    },
    {
      "cell_type": "code",
      "execution_count": 19,
      "metadata": {
        "id": "DlwUt3vdfhvb"
      },
      "outputs": [],
      "source": [
        "# encode Y\n",
        "\n",
        "tag_tokenizer = Tokenizer()\n",
        "tag_tokenizer.fit_on_texts(Y)\n",
        "Y_encoded = tag_tokenizer.texts_to_sequences(Y)"
      ]
    },
    {
      "cell_type": "code",
      "execution_count": 20,
      "metadata": {
        "id": "CHgzu2vlfhvb",
        "colab": {
          "base_uri": "https://localhost:8080/"
        },
        "outputId": "d9c54f52-14f6-49a0-c8e2-bf3729a34fd9"
      },
      "outputs": [
        {
          "output_type": "stream",
          "name": "stdout",
          "text": [
            "** Raw data point ** \n",
            " ---------------------------------------------------------------------------------------------------- \n",
            "\n",
            "X:  ['Pierre', 'Vinken', ',', '61', 'years', 'old', ',', 'will', 'join', 'the', 'board', 'as', 'a', 'nonexecutive', 'director', 'Nov.', '29', '.'] \n",
            "\n",
            "Y:  ['NOUN', 'NOUN', '.', 'NUM', 'NOUN', 'ADJ', '.', 'VERB', 'VERB', 'DET', 'NOUN', 'ADP', 'DET', 'ADJ', 'NOUN', 'NOUN', 'NUM', '.'] \n",
            "\n",
            "\n",
            "** Encoded data point ** \n",
            " ---------------------------------------------------------------------------------------------------- \n",
            "\n",
            "X:  [6423, 24231, 2, 7652, 102, 170, 2, 47, 1898, 1, 269, 17, 7, 13230, 619, 1711, 2761, 3] \n",
            "\n",
            "Y:  [1, 1, 3, 11, 1, 6, 3, 2, 2, 5, 1, 4, 5, 6, 1, 1, 11, 3] \n",
            "\n"
          ]
        }
      ],
      "source": [
        "# look at first encoded data point\n",
        "\n",
        "print(\"** Raw data point **\", \"\\n\", \"-\"*100, \"\\n\")\n",
        "print('X: ', X[0], '\\n')\n",
        "print('Y: ', Y[0], '\\n')\n",
        "print()\n",
        "print(\"** Encoded data point **\", \"\\n\", \"-\"*100, \"\\n\")\n",
        "print('X: ', X_encoded[0], '\\n')\n",
        "print('Y: ', Y_encoded[0], '\\n')"
      ]
    },
    {
      "cell_type": "code",
      "execution_count": 21,
      "metadata": {
        "id": "1g5bXDSVfhvb",
        "colab": {
          "base_uri": "https://localhost:8080/"
        },
        "outputId": "1eed57e5-2093-4cde-fde1-ada60682d214"
      },
      "outputs": [
        {
          "output_type": "stream",
          "name": "stdout",
          "text": [
            "0 sentences have disparate input-output lengths.\n"
          ]
        }
      ],
      "source": [
        "# make sure that each sequence of input and output is same length\n",
        "\n",
        "different_length = [1 if len(input) != len(output) else 0 for input, output in zip(X_encoded, Y_encoded)]\n",
        "print(\"{} sentences have disparate input-output lengths.\".format(sum(different_length)))"
      ]
    },
    {
      "cell_type": "markdown",
      "metadata": {
        "id": "lt9I01_ffhvb"
      },
      "source": [
        "## Pad sequences"
      ]
    },
    {
      "cell_type": "markdown",
      "metadata": {
        "id": "_z9lEx7Pfhvb"
      },
      "source": [
        "The next step after encoding the data is to **define the sequence lengths**. As of now, the sentences present in the data are of various lengths. We need to either pad short sentences or truncate long sentences to a fixed length. This fixed length, however, is a **hyperparameter**."
      ]
    },
    {
      "cell_type": "code",
      "execution_count": 22,
      "metadata": {
        "id": "ieHl6VHafhvb",
        "colab": {
          "base_uri": "https://localhost:8080/"
        },
        "outputId": "bf1d2ec3-b3fe-4ff5-bffc-047a3f378eb5"
      },
      "outputs": [
        {
          "output_type": "stream",
          "name": "stdout",
          "text": [
            "Length of longest sentence: 271\n"
          ]
        }
      ],
      "source": [
        "# check length of longest sentence\n",
        "lengths = [len(seq) for seq in X_encoded]\n",
        "print(\"Length of longest sentence: {}\".format(max(lengths)))"
      ]
    },
    {
      "cell_type": "code",
      "execution_count": 23,
      "metadata": {
        "id": "9aRc7QUzfhvb",
        "colab": {
          "base_uri": "https://localhost:8080/",
          "height": 430
        },
        "outputId": "f507b15a-e16e-4660-af71-b1331fa22306"
      },
      "outputs": [
        {
          "output_type": "display_data",
          "data": {
            "text/plain": [
              "<Figure size 640x480 with 1 Axes>"
            ],
            "image/png": "[encoded data removed]"
          },
          "metadata": {}
        }
      ],
      "source": [
        "sns.boxplot(lengths)\n",
        "plt.show()"
      ]
    },
    {
      "cell_type": "code",
      "execution_count": 24,
      "metadata": {
        "id": "zMLxxg-0fhvb"
      },
      "outputs": [],
      "source": [
        "# Pad each sequence to MAX_SEQ_LENGTH using KERAS' pad_sequences() function.\n",
        "# Sentences longer than MAX_SEQ_LENGTH are truncated.\n",
        "# Sentences shorter than MAX_SEQ_LENGTH are padded with zeroes.\n",
        "\n",
        "# Truncation and padding can either be 'pre' or 'post'.\n",
        "# For padding we are using 'pre' padding type, that is, add zeroes on the left side.\n",
        "# For truncation, we are using 'post', that is, truncate a sentence from right side.\n",
        "\n",
        "MAX_SEQ_LENGTH = 100  # sequences greater than 100 in length will be truncated\n",
        "\n",
        "X_padded = pad_sequences(X_encoded, maxlen=MAX_SEQ_LENGTH, padding=\"pre\", truncating=\"post\")\n",
        "Y_padded = pad_sequences(Y_encoded, maxlen=MAX_SEQ_LENGTH, padding=\"pre\", truncating=\"post\")"
      ]
    },
    {
      "cell_type": "code",
      "execution_count": 25,
      "metadata": {
        "scrolled": true,
        "id": "dlD7CFC7fhvb",
        "colab": {
          "base_uri": "https://localhost:8080/"
        },
        "outputId": "2d7f7789-24a6-40f7-c258-ec5a9249c6ef"
      },
      "outputs": [
        {
          "output_type": "stream",
          "name": "stdout",
          "text": [
            "[    0     0     0     0     0     0     0     0     0     0     0     0\n",
            "     0     0     0     0     0     0     0     0     0     0     0     0\n",
            "     0     0     0     0     0     0     0     0     0     0     0     0\n",
            "     0     0     0     0     0     0     0     0     0     0     0     0\n",
            "     0     0     0     0     0     0     0     0     0     0     0     0\n",
            "     0     0     0     0     0     0     0     0     0     0     0     0\n",
            "     0     0     0     0     0     0     0     0     0     0  6423 24231\n",
            "     2  7652   102   170     2    47  1898     1   269    17     7 13230\n",
            "   619  1711  2761     3] \n",
            "\n",
            "\n",
            "\n",
            "[ 0  0  0  0  0  0  0  0  0  0  0  0  0  0  0  0  0  0  0  0  0  0  0  0\n",
            "  0  0  0  0  0  0  0  0  0  0  0  0  0  0  0  0  0  0  0  0  0  0  0  0\n",
            "  0  0  0  0  0  0  0  0  0  0  0  0  0  0  0  0  0  0  0  0  0  0  0  0\n",
            "  0  0  0  0  0  0  0  0  0  0  1  1  3 11  1  6  3  2  2  5  1  4  5  6\n",
            "  1  1 11  3]\n"
          ]
        }
      ],
      "source": [
        "# print the first sequence\n",
        "print(X_padded[0], \"\\n\"*3)\n",
        "print(Y_padded[0])"
      ]
    },
    {
      "cell_type": "markdown",
      "metadata": {
        "collapsed": true,
        "id": "qdqc8y__fhvb"
      },
      "source": [
        "RNN will learn the zero to zero mapping while training. So we don't need to worry about the padded zeroes. Please note that zero is not reserved for any word or tag, it's only reserved for padding."
      ]
    },
    {
      "cell_type": "code",
      "execution_count": 26,
      "metadata": {
        "id": "1hpw9ydDfhvb"
      },
      "outputs": [],
      "source": [
        "# assign padded sequences to X and Y\n",
        "X, Y = X_padded, Y_padded"
      ]
    },
    {
      "cell_type": "markdown",
      "metadata": {
        "id": "z6GFchg7fhvb"
      },
      "source": [
        "## Word embeddings"
      ]
    },
    {
      "cell_type": "markdown",
      "metadata": {
        "id": "Ve3IhKvdfhvb"
      },
      "source": [
        "Currently, each word and each tag is encoded as an integer.\n",
        "\n",
        "We'll use a more sophisticated technique to represent the input words (X) using what's known as **word embeddings**.\n",
        "\n",
        "However, to represent each tag in Y, we'll simply use **one-hot encoding** scheme since there are only 13 tags in the dataset and the LSTM will have no problems in learning its own representation of these tags."
      ]
    },
    {
      "cell_type": "markdown",
      "metadata": {
        "id": "6WAd_Umpfhvc"
      },
      "source": [
        "To use word embeddings, you can go for either of the following models:\n",
        "1. word2vec model: https://code.google.com/archive/p/word2vec/\n",
        "2. GloVe model : https://nlp.stanford.edu/projects/glove/\n",
        "\n",
        "We're using the word2vec model for no particular reason. Both of these are very efficient in representing words. You can try both and see which one works better.\n",
        "\n",
        "Dimensions of a word embedding is: (VOCABULARY_SIZE, EMBEDDING_DIMENSION)"
      ]
    },
    {
      "cell_type": "markdown",
      "metadata": {
        "id": "KR0yptgSfhvc"
      },
      "source": [
        "### Use word embeddings for input sequences (X)"
      ]
    },
    {
      "cell_type": "code",
      "execution_count": 27,
      "metadata": {
        "id": "OFBK6po2fhvc"
      },
      "outputs": [],
      "source": [
        "# word2vec download link (Size ~ 1.5GB): https://drive.google.com/file/d/0B7XkCwpI5KDYNlNUTTlSS21pQmM/edit\n",
        "\n",
        "path = '/content/drive/My Drive/Colab Notebooks/RNN/POS Tagging Using RNN/GoogleNews-vectors-negative300.bin.gz'\n",
        "# load word2vec using the following function present in the gensim library\n",
        "word2vec = keyedvectors.load_word2vec_format(path, binary=True)\n"
      ]
    },
    {
      "cell_type": "code",
      "execution_count": 28,
      "metadata": {
        "id": "hluWsVIMfhvc",
        "colab": {
          "base_uri": "https://localhost:8080/"
        },
        "outputId": "ed7d4a95-0792-4968-9645-16c69deda4b9"
      },
      "outputs": [
        {
          "output_type": "execute_result",
          "data": {
            "text/plain": [
              "[('Queen', 0.4929387867450714),\n",
              " ('Tupou_V.', 0.45174285769462585),\n",
              " ('Oprah_BFF_Gayle', 0.4422132968902588),\n",
              " ('Jackson', 0.440250426530838),\n",
              " ('NECN_Alison', 0.4331282675266266),\n",
              " ('Whitfield', 0.42834725975990295),\n",
              " ('Ida_Vandross', 0.42084527015686035),\n",
              " ('prosecutor_Dan_Satterberg', 0.420758992433548),\n",
              " ('martin_Luther_King', 0.42059651017189026),\n",
              " ('Coretta_King', 0.4202733635902405)]"
            ]
          },
          "metadata": {},
          "execution_count": 28
        }
      ],
      "source": [
        "# word2vec effectiveness\n",
        "word2vec.most_similar(positive = [\"King\", \"Woman\"], negative = [\"Man\"]) #it performs vector arithmetic: adding the positive vectors, subtracting the negative, then from that resulting position, listing the known-vectors closest to that angle."
      ]
    },
    {
      "cell_type": "code",
      "source": [
        "len(word_tokenizer.word_index) + 1"
      ],
      "metadata": {
        "colab": {
          "base_uri": "https://localhost:8080/"
        },
        "id": "v_DnvXtON6S-",
        "outputId": "7b3a3e12-dfba-4c30-a411-6668d2f5c49d"
      },
      "execution_count": 29,
      "outputs": [
        {
          "output_type": "execute_result",
          "data": {
            "text/plain": [
              "59449"
            ]
          },
          "metadata": {},
          "execution_count": 29
        }
      ]
    },
    {
      "cell_type": "code",
      "execution_count": 30,
      "metadata": {
        "id": "YqwNnx4-fhvc"
      },
      "outputs": [],
      "source": [
        "# assign word vectors from word2vec model\n",
        "\n",
        "EMBEDDING_SIZE  = 300  # each word in word2vec model is represented using a 300 dimensional vector\n",
        "VOCABULARY_SIZE = len(word_tokenizer.word_index) + 1 # vocabulary size\n",
        "\n",
        "# create an empty embedding matix\n",
        "embedding_weights = np.zeros((VOCABULARY_SIZE, EMBEDDING_SIZE))\n",
        "\n",
        "# create a word to index dictionary mapping\n",
        "word2id = word_tokenizer.word_index\n",
        "\n",
        "# copy vectors from word2vec model to the words present in corpus\n",
        "for word, index in word2id.items():\n",
        "    try:\n",
        "        embedding_weights[index, :] = word2vec[word]\n",
        "    except KeyError:\n",
        "        pass"
      ]
    },
    {
      "cell_type": "code",
      "execution_count": 31,
      "metadata": {
        "id": "jcWIqAShfhvc",
        "colab": {
          "base_uri": "https://localhost:8080/"
        },
        "outputId": "be9cfc17-7075-4f6f-b4b7-f12bcaae375b"
      },
      "outputs": [
        {
          "output_type": "stream",
          "name": "stdout",
          "text": [
            "Embeddings shape: (59449, 300)\n"
          ]
        }
      ],
      "source": [
        "# check embedding dimension\n",
        "print(\"Embeddings shape: {}\".format(embedding_weights.shape))"
      ]
    },
    {
      "cell_type": "code",
      "execution_count": 32,
      "metadata": {
        "id": "QgZhl8zXfhvc",
        "colab": {
          "base_uri": "https://localhost:8080/"
        },
        "outputId": "bdeca840-dfd2-4f64-c986-8d1b9baa8864"
      },
      "outputs": [
        {
          "output_type": "execute_result",
          "data": {
            "text/plain": [
              "array([ 0.4453125 , -0.20019531,  0.20019531, -0.03149414,  0.078125  ,\n",
              "       -0.390625  ,  0.13671875, -0.13867188,  0.05395508,  0.10546875,\n",
              "       -0.05029297, -0.23730469,  0.19921875,  0.12597656, -0.12695312,\n",
              "        0.34179688,  0.06347656,  0.26757812, -0.07324219, -0.29101562,\n",
              "        0.10498047,  0.11914062,  0.23730469,  0.00640869,  0.12451172,\n",
              "       -0.00939941, -0.02770996,  0.03076172,  0.07421875, -0.22851562,\n",
              "       -0.08056641, -0.05273438,  0.16894531,  0.19824219, -0.15625   ,\n",
              "       -0.08740234,  0.10742188, -0.07177734,  0.05200195,  0.25976562,\n",
              "        0.171875  , -0.13574219,  0.06738281,  0.00531006,  0.15527344,\n",
              "       -0.03515625,  0.08789062,  0.3359375 , -0.12890625,  0.17578125,\n",
              "       -0.08642578,  0.32421875, -0.09033203,  0.35351562,  0.24316406,\n",
              "       -0.07470703, -0.06640625, -0.17578125,  0.06689453, -0.03833008,\n",
              "        0.0100708 , -0.21484375, -0.03686523,  0.04394531,  0.02209473,\n",
              "        0.00219727, -0.22460938,  0.03015137, -0.21582031,  0.16015625,\n",
              "        0.23339844, -0.16699219, -0.09228516,  0.10644531,  0.19335938,\n",
              "       -0.26757812,  0.15722656, -0.08691406,  0.11181641,  0.14941406,\n",
              "       -0.20507812,  0.04882812, -0.07519531, -0.21582031, -0.10107422,\n",
              "       -0.13378906, -0.06103516,  0.05444336,  0.07470703,  0.09521484,\n",
              "       -0.0144043 ,  0.27929688, -0.25585938, -0.05273438, -0.22460938,\n",
              "        0.10253906, -0.15136719,  0.21289062, -0.04711914, -0.12109375,\n",
              "        0.04663086,  0.25976562,  0.13574219,  0.00799561,  0.02001953,\n",
              "        0.1796875 ,  0.30664062,  0.06152344,  0.13574219, -0.09619141,\n",
              "       -0.07421875,  0.38671875,  0.20800781,  0.12695312,  0.05200195,\n",
              "        0.17675781, -0.16796875, -0.19335938, -0.06152344, -0.07568359,\n",
              "       -0.18457031,  0.06030273, -0.15136719, -0.1953125 , -0.23339844,\n",
              "        0.00738525, -0.02478027, -0.09765625, -0.06054688,  0.20214844,\n",
              "       -0.2734375 ,  0.00595093, -0.34570312, -0.12988281,  0.00418091,\n",
              "        0.09960938,  0.0246582 ,  0.15917969, -0.02038574,  0.30273438,\n",
              "       -0.20800781, -0.20214844, -0.03930664, -0.06494141,  0.00436401,\n",
              "       -0.02270508, -0.171875  ,  0.30273438, -0.16113281, -0.49414062,\n",
              "        0.3515625 ,  0.39257812,  0.09814453,  0.41796875,  0.05371094,\n",
              "        0.02392578, -0.03710938, -0.08251953, -0.38671875, -0.40625   ,\n",
              "       -0.05664062,  0.203125  , -0.01782227,  0.3359375 ,  0.19140625,\n",
              "       -0.44335938,  0.00927734,  0.24804688, -0.05102539,  0.19726562,\n",
              "        0.03881836,  0.03442383, -0.40039062, -0.09912109, -0.07128906,\n",
              "        0.21484375, -0.01422119,  0.04907227, -0.07421875, -0.21582031,\n",
              "       -0.41992188,  0.02172852,  0.11083984, -0.33398438, -0.2734375 ,\n",
              "       -0.05322266, -0.16601562, -0.28515625, -0.12207031,  0.04882812,\n",
              "       -0.0625    , -0.04077148, -0.16503906,  0.0480957 , -0.21191406,\n",
              "        0.20019531, -0.2109375 ,  0.10839844, -0.14648438, -0.07958984,\n",
              "       -0.05151367, -0.16601562, -0.24902344, -0.375     ,  0.05664062,\n",
              "       -0.13671875, -0.2578125 ,  0.28515625, -0.04736328,  0.13574219,\n",
              "       -0.14550781,  0.19433594, -0.21972656,  0.08447266, -0.10791016,\n",
              "       -0.11816406, -0.16015625,  0.12060547, -0.10888672,  0.04345703,\n",
              "        0.11474609, -0.08447266, -0.00720215,  0.03662109, -0.38671875,\n",
              "       -0.03881836, -0.03198242,  0.00344849,  0.22558594, -0.06787109,\n",
              "       -0.16699219,  0.2421875 ,  0.05712891,  0.27539062, -0.0456543 ,\n",
              "       -0.19042969, -0.17285156,  0.00836182, -0.03271484,  0.16992188,\n",
              "       -0.18554688, -0.0703125 , -0.32617188, -0.00668335, -0.02770996,\n",
              "        0.3359375 ,  0.125     , -0.2109375 ,  0.06005859, -0.07080078,\n",
              "        0.11132812,  0.125     ,  0.25390625,  0.29296875, -0.03125   ,\n",
              "        0.09033203, -0.20507812, -0.07861328,  0.02062988, -0.0546875 ,\n",
              "       -0.23339844,  0.00096893, -0.04516602,  0.16894531, -0.22167969,\n",
              "        0.08105469,  0.33398438,  0.09619141,  0.00866699, -0.03271484,\n",
              "        0.05493164,  0.12109375,  0.16210938, -0.10302734,  0.27148438,\n",
              "       -0.03344727, -0.30273438,  0.04223633,  0.08496094, -0.15527344,\n",
              "        0.10107422, -0.11474609, -0.13085938,  0.22949219,  0.12988281,\n",
              "        0.09863281, -0.03588867,  0.10693359, -0.24902344,  0.19238281,\n",
              "       -0.05322266, -0.09033203, -0.31640625, -0.5703125 , -0.15917969,\n",
              "        0.0291748 , -0.0246582 , -0.07714844, -0.04663086, -0.17578125])"
            ]
          },
          "metadata": {},
          "execution_count": 32
        }
      ],
      "source": [
        "# let's look at an embedding of a word\n",
        "embedding_weights[word_tokenizer.word_index['joy']]"
      ]
    },
    {
      "cell_type": "markdown",
      "metadata": {
        "id": "rJTGY4Lefhvc"
      },
      "source": [
        "### Use one-hot encoding for output sequences (Y)"
      ]
    },
    {
      "cell_type": "code",
      "execution_count": 33,
      "metadata": {
        "id": "EbOrVjsXfhvl"
      },
      "outputs": [],
      "source": [
        "# use Keras' to_categorical function to one-hot encode Y\n",
        "Y = to_categorical(Y)"
      ]
    },
    {
      "cell_type": "code",
      "execution_count": 34,
      "metadata": {
        "id": "ymkyOfDyfhvl",
        "colab": {
          "base_uri": "https://localhost:8080/"
        },
        "outputId": "27c661f7-f2e2-435a-80bc-3d6a64dab36e"
      },
      "outputs": [
        {
          "output_type": "stream",
          "name": "stdout",
          "text": [
            "(72202, 100, 13)\n"
          ]
        }
      ],
      "source": [
        "# print Y of the first output sequqnce\n",
        "print(Y.shape)"
      ]
    },
    {
      "cell_type": "markdown",
      "metadata": {
        "id": "NqRh_4fufhvl"
      },
      "source": [
        "## Split data in training, validation and tesing sets"
      ]
    },
    {
      "cell_type": "code",
      "execution_count": 35,
      "metadata": {
        "id": "dfruGck4fhvl"
      },
      "outputs": [],
      "source": [
        "# split entire data into training and testing sets\n",
        "TEST_SIZE = 0.15\n",
        "X_train, X_test, Y_train, Y_test = train_test_split(X, Y, test_size=TEST_SIZE, random_state=4)"
      ]
    },
    {
      "cell_type": "code",
      "execution_count": 36,
      "metadata": {
        "id": "rT_nSgiTfhvl"
      },
      "outputs": [],
      "source": [
        "# split training data into training and validation sets\n",
        "VALID_SIZE = 0.15\n",
        "X_train, X_validation, Y_train, Y_validation = train_test_split(X_train, Y_train, test_size=VALID_SIZE, random_state=4)"
      ]
    },
    {
      "cell_type": "code",
      "execution_count": 37,
      "metadata": {
        "id": "0lpdd8xofhvl",
        "colab": {
          "base_uri": "https://localhost:8080/"
        },
        "outputId": "f4f4ca43-60b0-467b-b53b-03cca1054486"
      },
      "outputs": [
        {
          "output_type": "stream",
          "name": "stdout",
          "text": [
            "TRAINING DATA\n",
            "Shape of input sequences: (52165, 100)\n",
            "Shape of output sequences: (52165, 100, 13)\n",
            "--------------------------------------------------\n",
            "VALIDATION DATA\n",
            "Shape of input sequences: (9206, 100)\n",
            "Shape of output sequences: (9206, 100, 13)\n",
            "--------------------------------------------------\n",
            "TESTING DATA\n",
            "Shape of input sequences: (10831, 100)\n",
            "Shape of output sequences: (10831, 100, 13)\n"
          ]
        }
      ],
      "source": [
        "# print number of samples in each set\n",
        "print(\"TRAINING DATA\")\n",
        "print('Shape of input sequences: {}'.format(X_train.shape))\n",
        "print('Shape of output sequences: {}'.format(Y_train.shape))\n",
        "print(\"-\"*50)\n",
        "print(\"VALIDATION DATA\")\n",
        "print('Shape of input sequences: {}'.format(X_validation.shape))\n",
        "print('Shape of output sequences: {}'.format(Y_validation.shape))\n",
        "print(\"-\"*50)\n",
        "print(\"TESTING DATA\")\n",
        "print('Shape of input sequences: {}'.format(X_test.shape))\n",
        "print('Shape of output sequences: {}'.format(Y_test.shape))"
      ]
    },
    {
      "cell_type": "markdown",
      "metadata": {
        "id": "O7LT4ktUfhvl"
      },
      "source": [
        "Before using RNN, we must make sure the dimensions of the data are what an RNN expects. In general, an RNN expects the following shape\n",
        "\n",
        "Shape of X:\n",
        "(#samples, #timesteps, #features)\n",
        "\n",
        "Shape of Y:\n",
        "(#samples, #timesteps, #features)\n",
        "\n",
        "![RNN tensor shape](./jupyter resources/rnn_tensor.png)\n",
        "\n",
        "Now, there can be various variations in the shape that you use to feed an RNN depending on the type of architecture. Since the problem we're working on has a many-to-many architecture, the input and the output both include number of timesteps which is nothing but the sequence length. But notice that the tensor X doesn't have the third dimension, that is, number of features. That's because we're going to use word embeddings before feeding in the data to an RNN, and hence there is no need to explicitly mention the third dimension. That's because when you use the Embedding() layer in Keras, you the training data will automatically be converted to (#samples, #timesteps, #features) where #features will be the embedding dimention (and note that the Embedding layer is always the very first layer of an RNN). While using the embedding layer we only need to reshape the data to (#samples, #timesteps) which is what we have done. However, note that you'll need to shape it to (#samples, #timesteps, #features) in case you don't use the Embedding() layer in Keras."
      ]
    },
    {
      "cell_type": "markdown",
      "metadata": {
        "id": "LEax5Hyxfhvl"
      },
      "source": [
        "# 2. Vanilla RNN"
      ]
    },
    {
      "cell_type": "markdown",
      "metadata": {
        "id": "bMCItjr2fhvl"
      },
      "source": [
        "### Uninitialised fixed embeddings\n",
        "First let's try running a vanilla RNN. For this RNN we won't use the pre-trained word embeddings. We'll use randomly inititalised embeddings. Moreover, we won't update the embeddings weights."
      ]
    },
    {
      "cell_type": "code",
      "execution_count": 38,
      "metadata": {
        "id": "LPkAkwGEfhvl"
      },
      "outputs": [],
      "source": [
        "# total number of tags\n",
        "NUM_CLASSES = Y.shape[2]"
      ]
    },
    {
      "cell_type": "code",
      "execution_count": 39,
      "metadata": {
        "id": "BBVphyR1fhvl"
      },
      "outputs": [],
      "source": [
        "# create architecture\n",
        "\n",
        "rnn_model = Sequential()\n",
        "\n",
        "# create embedding layer - usually the first layer in text problems\n",
        "rnn_model.add(Embedding(input_dim     =  VOCABULARY_SIZE,         # vocabulary size - number of unique words in data\n",
        "                        output_dim    =  EMBEDDING_SIZE,          # length of vector with which each word is represented\n",
        "                        input_length  =  MAX_SEQ_LENGTH,          # length of input sequence\n",
        "                        trainable     =  False                    # False - don't update the embeddings\n",
        "))\n",
        "\n",
        "# add an RNN layer which contains 64 RNN cells\n",
        "rnn_model.add(SimpleRNN(64,\n",
        "              return_sequences=True  # True - return whole sequence; False - return single output of the end of the sequence\n",
        "))\n",
        "\n",
        "# add time distributed (output at each sequence) layer\n",
        "rnn_model.add(TimeDistributed(Dense(NUM_CLASSES, activation='softmax')))"
      ]
    },
    {
      "cell_type": "markdown",
      "metadata": {
        "id": "0WIgra47fhvl"
      },
      "source": [
        "## Compile model"
      ]
    },
    {
      "cell_type": "code",
      "execution_count": 40,
      "metadata": {
        "id": "c_b4y9I9fhvm"
      },
      "outputs": [],
      "source": [
        "rnn_model.compile(loss      =  'categorical_crossentropy',\n",
        "                  optimizer =  'adam',\n",
        "                  metrics   =  ['acc'])"
      ]
    },
    {
      "cell_type": "code",
      "execution_count": 41,
      "metadata": {
        "id": "AuXIN3pDfhvm",
        "colab": {
          "base_uri": "https://localhost:8080/"
        },
        "outputId": "4bf8dbf2-a82f-4371-a6ea-d14cf2ca6d90"
      },
      "outputs": [
        {
          "output_type": "stream",
          "name": "stdout",
          "text": [
            "Model: \"sequential\"\n",
            "_________________________________________________________________\n",
            " Layer (type)                Output Shape              Param #   \n",
            "=================================================================\n",
            " embedding (Embedding)       (None, 100, 300)          17834700  \n",
            "                                                                 \n",
            " simple_rnn (SimpleRNN)      (None, 100, 64)           23360     \n",
            "                                                                 \n",
            " time_distributed (TimeDist  (None, 100, 13)           845       \n",
            " ributed)                                                        \n",
            "                                                                 \n",
            "=================================================================\n",
            "Total params: 17858905 (68.13 MB)\n",
            "Trainable params: 24205 (94.55 KB)\n",
            "Non-trainable params: 17834700 (68.03 MB)\n",
            "_________________________________________________________________\n"
          ]
        }
      ],
      "source": [
        "# check summary of the model\n",
        "rnn_model.summary()"
      ]
    },
    {
      "cell_type": "markdown",
      "metadata": {
        "id": "1OWqhD_vfhvm"
      },
      "source": [
        "## Fit model"
      ]
    },
    {
      "cell_type": "code",
      "execution_count": 42,
      "metadata": {
        "id": "Vcj-Q7JSfhvm",
        "colab": {
          "base_uri": "https://localhost:8080/"
        },
        "outputId": "377345f6-6bcf-4889-aa63-ec7e4481eaec"
      },
      "outputs": [
        {
          "output_type": "stream",
          "name": "stdout",
          "text": [
            "Epoch 1/10\n",
            "408/408 [==============================] - 56s 123ms/step - loss: 0.5120 - acc: 0.8534 - val_loss: 0.3499 - val_acc: 0.8966\n",
            "Epoch 2/10\n",
            "408/408 [==============================] - 38s 93ms/step - loss: 0.2884 - acc: 0.9135 - val_loss: 0.2402 - val_acc: 0.9274\n",
            "Epoch 3/10\n",
            "408/408 [==============================] - 39s 96ms/step - loss: 0.2157 - acc: 0.9335 - val_loss: 0.1932 - val_acc: 0.9383\n",
            "Epoch 4/10\n",
            "408/408 [==============================] - 39s 96ms/step - loss: 0.1815 - acc: 0.9414 - val_loss: 0.1676 - val_acc: 0.9454\n",
            "Epoch 5/10\n",
            "408/408 [==============================] - 39s 97ms/step - loss: 0.1606 - acc: 0.9476 - val_loss: 0.1509 - val_acc: 0.9508\n",
            "Epoch 6/10\n",
            "408/408 [==============================] - 37s 90ms/step - loss: 0.1470 - acc: 0.9521 - val_loss: 0.1408 - val_acc: 0.9540\n",
            "Epoch 7/10\n",
            "408/408 [==============================] - 39s 94ms/step - loss: 0.1382 - acc: 0.9544 - val_loss: 0.1333 - val_acc: 0.9558\n",
            "Epoch 8/10\n",
            "408/408 [==============================] - 39s 95ms/step - loss: 0.1319 - acc: 0.9561 - val_loss: 0.1279 - val_acc: 0.9572\n",
            "Epoch 9/10\n",
            "408/408 [==============================] - 39s 96ms/step - loss: 0.1275 - acc: 0.9573 - val_loss: 0.1241 - val_acc: 0.9584\n",
            "Epoch 10/10\n",
            "408/408 [==============================] - 40s 99ms/step - loss: 0.1240 - acc: 0.9583 - val_loss: 0.1213 - val_acc: 0.9589\n"
          ]
        }
      ],
      "source": [
        "rnn_training = rnn_model.fit(X_train, Y_train, batch_size=128, epochs=10, validation_data=(X_validation, Y_validation))"
      ]
    },
    {
      "cell_type": "code",
      "execution_count": 43,
      "metadata": {
        "scrolled": true,
        "id": "g35nUy2Dfhvm",
        "colab": {
          "base_uri": "https://localhost:8080/",
          "height": 472
        },
        "outputId": "24f46a6d-8467-45df-965d-34c2f3cfba36"
      },
      "outputs": [
        {
          "output_type": "display_data",
          "data": {
            "text/plain": [
              "<Figure size 640x480 with 1 Axes>"
            ],
            "image/png": "[encoded data removed]"
          },
          "metadata": {}
        }
      ],
      "source": [
        "# visualise training history\n",
        "plt.plot(rnn_training.history['acc'])\n",
        "plt.plot(rnn_training.history['val_acc'])\n",
        "plt.title('model accuracy')\n",
        "plt.ylabel('accuracy')\n",
        "plt.xlabel('epoch')\n",
        "plt.legend(['train', 'test'], loc=\"lower right\")\n",
        "plt.show()"
      ]
    },
    {
      "cell_type": "markdown",
      "metadata": {
        "id": "YQH8ckVjfhvm"
      },
      "source": [
        "### Uninitialised trainable embeddings"
      ]
    },
    {
      "cell_type": "code",
      "execution_count": 44,
      "metadata": {
        "id": "6vxae5U5fhvm"
      },
      "outputs": [],
      "source": [
        "# create architecture\n",
        "\n",
        "rnn_model = Sequential()\n",
        "\n",
        "# create embedding layer - usually the first layer in text problems\n",
        "rnn_model.add(Embedding(input_dim     =  VOCABULARY_SIZE,         # vocabulary size - number of unique words in data\n",
        "                        output_dim    =  EMBEDDING_SIZE,          # length of vector with which each word is represented\n",
        "                        input_length  =  MAX_SEQ_LENGTH,          # length of input sequence\n",
        "                        trainable     =  True                     # True - update the embeddings while training\n",
        "))\n",
        "\n",
        "# add an RNN layer which contains 64 RNN cells\n",
        "rnn_model.add(SimpleRNN(64,\n",
        "              return_sequences=True  # True - return whole sequence; False - return single output of the end of the sequence\n",
        "))\n",
        "\n",
        "# add time distributed (output at each sequence) layer\n",
        "rnn_model.add(TimeDistributed(Dense(NUM_CLASSES, activation='softmax')))"
      ]
    },
    {
      "cell_type": "markdown",
      "metadata": {
        "id": "iehFGmDvfhvm"
      },
      "source": [
        "## Compile model"
      ]
    },
    {
      "cell_type": "code",
      "execution_count": 45,
      "metadata": {
        "id": "jl4JjMiQfhvm"
      },
      "outputs": [],
      "source": [
        "rnn_model.compile(loss      =  'categorical_crossentropy',\n",
        "                  optimizer =  'adam',\n",
        "                  metrics   =  ['acc'])"
      ]
    },
    {
      "cell_type": "code",
      "execution_count": 46,
      "metadata": {
        "scrolled": true,
        "id": "j0SGUgpAfhvm",
        "colab": {
          "base_uri": "https://localhost:8080/"
        },
        "outputId": "cc57b19d-17fd-4cea-9107-09c46f94405f"
      },
      "outputs": [
        {
          "output_type": "stream",
          "name": "stdout",
          "text": [
            "Model: \"sequential_1\"\n",
            "_________________________________________________________________\n",
            " Layer (type)                Output Shape              Param #   \n",
            "=================================================================\n",
            " embedding_1 (Embedding)     (None, 100, 300)          17834700  \n",
            "                                                                 \n",
            " simple_rnn_1 (SimpleRNN)    (None, 100, 64)           23360     \n",
            "                                                                 \n",
            " time_distributed_1 (TimeDi  (None, 100, 13)           845       \n",
            " stributed)                                                      \n",
            "                                                                 \n",
            "=================================================================\n",
            "Total params: 17858905 (68.13 MB)\n",
            "Trainable params: 17858905 (68.13 MB)\n",
            "Non-trainable params: 0 (0.00 Byte)\n",
            "_________________________________________________________________\n"
          ]
        }
      ],
      "source": [
        "# check summary of the model\n",
        "rnn_model.summary()"
      ]
    },
    {
      "cell_type": "markdown",
      "metadata": {
        "id": "bJElGeQdfhvm"
      },
      "source": [
        "## Fit model"
      ]
    },
    {
      "cell_type": "code",
      "execution_count": 47,
      "metadata": {
        "id": "0Osa6mdbfhvm",
        "colab": {
          "base_uri": "https://localhost:8080/"
        },
        "outputId": "52c0d917-aec1-43df-f35a-ec60621ca5a2"
      },
      "outputs": [
        {
          "output_type": "stream",
          "name": "stdout",
          "text": [
            "Epoch 1/10\n",
            "408/408 [==============================] - 84s 201ms/step - loss: 0.2240 - acc: 0.9473 - val_loss: 0.0422 - val_acc: 0.9875\n",
            "Epoch 2/10\n",
            "408/408 [==============================] - 56s 137ms/step - loss: 0.0300 - acc: 0.9904 - val_loss: 0.0296 - val_acc: 0.9897\n",
            "Epoch 3/10\n",
            "408/408 [==============================] - 52s 127ms/step - loss: 0.0209 - acc: 0.9927 - val_loss: 0.0275 - val_acc: 0.9903\n",
            "Epoch 4/10\n",
            "408/408 [==============================] - 48s 117ms/step - loss: 0.0174 - acc: 0.9938 - val_loss: 0.0271 - val_acc: 0.9903\n",
            "Epoch 5/10\n",
            "408/408 [==============================] - 48s 117ms/step - loss: 0.0150 - acc: 0.9946 - val_loss: 0.0274 - val_acc: 0.9905\n",
            "Epoch 6/10\n",
            "408/408 [==============================] - 47s 114ms/step - loss: 0.0130 - acc: 0.9954 - val_loss: 0.0281 - val_acc: 0.9904\n",
            "Epoch 7/10\n",
            "408/408 [==============================] - 45s 111ms/step - loss: 0.0111 - acc: 0.9962 - val_loss: 0.0295 - val_acc: 0.9901\n",
            "Epoch 8/10\n",
            "408/408 [==============================] - 49s 121ms/step - loss: 0.0094 - acc: 0.9969 - val_loss: 0.0315 - val_acc: 0.9899\n",
            "Epoch 9/10\n",
            "408/408 [==============================] - 46s 112ms/step - loss: 0.0078 - acc: 0.9975 - val_loss: 0.0339 - val_acc: 0.9897\n",
            "Epoch 10/10\n",
            "408/408 [==============================] - 44s 108ms/step - loss: 0.0065 - acc: 0.9979 - val_loss: 0.0366 - val_acc: 0.9893\n"
          ]
        }
      ],
      "source": [
        "rnn_training = rnn_model.fit(X_train, Y_train, batch_size=128, epochs=10, validation_data=(X_validation, Y_validation))"
      ]
    },
    {
      "cell_type": "code",
      "execution_count": 48,
      "metadata": {
        "scrolled": true,
        "id": "8Nj3hVyCfhvm",
        "colab": {
          "base_uri": "https://localhost:8080/",
          "height": 472
        },
        "outputId": "90aab651-8b2a-4f4b-f9aa-06c76c41116a"
      },
      "outputs": [
        {
          "output_type": "display_data",
          "data": {
            "text/plain": [
              "<Figure size 640x480 with 1 Axes>"
            ],
            "image/png": "[encoded data removed]"
          },
          "metadata": {}
        }
      ],
      "source": [
        "# visualise training history\n",
        "plt.plot(rnn_training.history['acc'])\n",
        "plt.plot(rnn_training.history['val_acc'])\n",
        "plt.title('model accuracy')\n",
        "plt.ylabel('accuracy')\n",
        "plt.xlabel('epoch')\n",
        "plt.legend(['train', 'test'], loc=\"lower right\")\n",
        "plt.show()"
      ]
    },
    {
      "cell_type": "markdown",
      "metadata": {
        "id": "N7qEZmk4fhvn"
      },
      "source": [
        "### Using pre-trained embedding weights"
      ]
    },
    {
      "cell_type": "code",
      "execution_count": 49,
      "metadata": {
        "id": "e7KqCpxCfhvn"
      },
      "outputs": [],
      "source": [
        "# create architecture\n",
        "\n",
        "rnn_model = Sequential()\n",
        "\n",
        "# create embedding layer - usually the first layer in text problems\n",
        "rnn_model.add(Embedding(input_dim     =  VOCABULARY_SIZE,         # vocabulary size - number of unique words in data\n",
        "                        output_dim    =  EMBEDDING_SIZE,          # length of vector with which each word is represented\n",
        "                        input_length  =  MAX_SEQ_LENGTH,          # length of input sequence\n",
        "                        weights       = [embedding_weights],      # word embedding matrix\n",
        "                        trainable     =  True                     # True - update the embeddings while training\n",
        "))\n",
        "\n",
        "# add an RNN layer which contains 64 RNN cells\n",
        "rnn_model.add(SimpleRNN(64,\n",
        "              return_sequences=True  # True - return whole sequence; False - return single output of the end of the sequence\n",
        "))\n",
        "\n",
        "# add time distributed (output at each sequence) layer\n",
        "rnn_model.add(TimeDistributed(Dense(NUM_CLASSES, activation='softmax')))"
      ]
    },
    {
      "cell_type": "markdown",
      "metadata": {
        "id": "PJUpQX-Rfhvn"
      },
      "source": [
        "## Compile model"
      ]
    },
    {
      "cell_type": "code",
      "execution_count": 50,
      "metadata": {
        "id": "_MTNQf_Kfhvn"
      },
      "outputs": [],
      "source": [
        "rnn_model.compile(loss      =  'categorical_crossentropy',\n",
        "                  optimizer =  'adam',\n",
        "                  metrics   =  ['acc'])"
      ]
    },
    {
      "cell_type": "code",
      "execution_count": 51,
      "metadata": {
        "scrolled": true,
        "id": "9h0Qo30kfhvn",
        "colab": {
          "base_uri": "https://localhost:8080/"
        },
        "outputId": "21883995-784f-44de-9e9a-6b9e282eb06c"
      },
      "outputs": [
        {
          "output_type": "stream",
          "name": "stdout",
          "text": [
            "Model: \"sequential_2\"\n",
            "_________________________________________________________________\n",
            " Layer (type)                Output Shape              Param #   \n",
            "=================================================================\n",
            " embedding_2 (Embedding)     (None, 100, 300)          17834700  \n",
            "                                                                 \n",
            " simple_rnn_2 (SimpleRNN)    (None, 100, 64)           23360     \n",
            "                                                                 \n",
            " time_distributed_2 (TimeDi  (None, 100, 13)           845       \n",
            " stributed)                                                      \n",
            "                                                                 \n",
            "=================================================================\n",
            "Total params: 17858905 (68.13 MB)\n",
            "Trainable params: 17858905 (68.13 MB)\n",
            "Non-trainable params: 0 (0.00 Byte)\n",
            "_________________________________________________________________\n"
          ]
        }
      ],
      "source": [
        "# check summary of the model\n",
        "rnn_model.summary()"
      ]
    },
    {
      "cell_type": "markdown",
      "metadata": {
        "id": "0Qbzrh8Xfhvn"
      },
      "source": [
        "## Fit model"
      ]
    },
    {
      "cell_type": "code",
      "execution_count": 52,
      "metadata": {
        "id": "QfSE-WMbfhvn",
        "colab": {
          "base_uri": "https://localhost:8080/"
        },
        "outputId": "577c163c-a576-462d-fa11-a5b26331e353"
      },
      "outputs": [
        {
          "output_type": "stream",
          "name": "stdout",
          "text": [
            "Epoch 1/10\n",
            "408/408 [==============================] - 75s 181ms/step - loss: 0.1824 - acc: 0.9602 - val_loss: 0.0355 - val_acc: 0.9888\n",
            "Epoch 2/10\n",
            "408/408 [==============================] - 52s 127ms/step - loss: 0.0271 - acc: 0.9909 - val_loss: 0.0274 - val_acc: 0.9905\n",
            "Epoch 3/10\n",
            "408/408 [==============================] - 50s 124ms/step - loss: 0.0200 - acc: 0.9929 - val_loss: 0.0256 - val_acc: 0.9909\n",
            "Epoch 4/10\n",
            "408/408 [==============================] - 48s 117ms/step - loss: 0.0171 - acc: 0.9938 - val_loss: 0.0252 - val_acc: 0.9910\n",
            "Epoch 5/10\n",
            "408/408 [==============================] - 49s 119ms/step - loss: 0.0152 - acc: 0.9945 - val_loss: 0.0251 - val_acc: 0.9911\n",
            "Epoch 6/10\n",
            "408/408 [==============================] - 48s 117ms/step - loss: 0.0136 - acc: 0.9951 - val_loss: 0.0256 - val_acc: 0.9911\n",
            "Epoch 7/10\n",
            "408/408 [==============================] - 47s 116ms/step - loss: 0.0121 - acc: 0.9957 - val_loss: 0.0261 - val_acc: 0.9911\n",
            "Epoch 8/10\n",
            "408/408 [==============================] - 47s 115ms/step - loss: 0.0106 - acc: 0.9963 - val_loss: 0.0272 - val_acc: 0.9909\n",
            "Epoch 9/10\n",
            "408/408 [==============================] - 46s 112ms/step - loss: 0.0093 - acc: 0.9968 - val_loss: 0.0285 - val_acc: 0.9909\n",
            "Epoch 10/10\n",
            "408/408 [==============================] - 48s 117ms/step - loss: 0.0079 - acc: 0.9973 - val_loss: 0.0302 - val_acc: 0.9906\n"
          ]
        }
      ],
      "source": [
        "rnn_training = rnn_model.fit(X_train, Y_train, batch_size=128, epochs=10, validation_data=(X_validation, Y_validation))"
      ]
    },
    {
      "cell_type": "code",
      "execution_count": 53,
      "metadata": {
        "scrolled": true,
        "id": "JZtZ6WpMfhvn",
        "colab": {
          "base_uri": "https://localhost:8080/",
          "height": 472
        },
        "outputId": "d28cb330-4c91-4b0b-8494-c587f20df5c4"
      },
      "outputs": [
        {
          "output_type": "display_data",
          "data": {
            "text/plain": [
              "<Figure size 640x480 with 1 Axes>"
            ],
            "image/png": "[encoded data removed]"
          },
          "metadata": {}
        }
      ],
      "source": [
        "# visualise training history\n",
        "plt.plot(rnn_training.history['acc'])\n",
        "plt.plot(rnn_training.history['val_acc'])\n",
        "plt.title('model accuracy')\n",
        "plt.ylabel('accuracy')\n",
        "plt.xlabel('epoch')\n",
        "plt.legend(['train', 'test'], loc=\"lower right\")\n",
        "plt.show()"
      ]
    },
    {
      "cell_type": "markdown",
      "metadata": {
        "id": "Q_1UGJO8fhvn"
      },
      "source": [
        "# 2. LSTM"
      ]
    },
    {
      "cell_type": "markdown",
      "metadata": {
        "id": "V7Ol2_cBfhvn"
      },
      "source": [
        "We'll use pre-trained word embeddings in following models and allow them to be updated as well."
      ]
    },
    {
      "cell_type": "markdown",
      "metadata": {
        "id": "6AsYwDWufhvn"
      },
      "source": [
        "## Create model architecture"
      ]
    },
    {
      "cell_type": "code",
      "execution_count": 54,
      "metadata": {
        "id": "ey9yPmjifhvn"
      },
      "outputs": [],
      "source": [
        "# create architecture\n",
        "\n",
        "lstm_model = Sequential()\n",
        "lstm_model.add(Embedding(input_dim     = VOCABULARY_SIZE,         # vocabulary size - number of unique words in data\n",
        "                         output_dim    = EMBEDDING_SIZE,          # length of vector with which each word is represented\n",
        "                         input_length  = MAX_SEQ_LENGTH,          # length of input sequence\n",
        "                         weights       = [embedding_weights],     # word embedding matrix\n",
        "                         trainable     = True                     # True - update embeddings_weight matrix\n",
        "))\n",
        "lstm_model.add(LSTM(64, return_sequences=True))\n",
        "lstm_model.add(TimeDistributed(Dense(NUM_CLASSES, activation='softmax')))"
      ]
    },
    {
      "cell_type": "markdown",
      "metadata": {
        "id": "9U80qZodfhvn"
      },
      "source": [
        "## Compile model"
      ]
    },
    {
      "cell_type": "code",
      "execution_count": 55,
      "metadata": {
        "id": "fLxzF0jwfhvn"
      },
      "outputs": [],
      "source": [
        "lstm_model.compile(loss      =  'categorical_crossentropy',\n",
        "                   optimizer =  'adam',\n",
        "                   metrics   =  ['acc'])"
      ]
    },
    {
      "cell_type": "code",
      "execution_count": 56,
      "metadata": {
        "id": "JB2SUR-_fhvo",
        "colab": {
          "base_uri": "https://localhost:8080/"
        },
        "outputId": "bba5ddcb-dcb8-4568-f7f3-b93956d8fc0b"
      },
      "outputs": [
        {
          "output_type": "stream",
          "name": "stdout",
          "text": [
            "Model: \"sequential_3\"\n",
            "_________________________________________________________________\n",
            " Layer (type)                Output Shape              Param #   \n",
            "=================================================================\n",
            " embedding_3 (Embedding)     (None, 100, 300)          17834700  \n",
            "                                                                 \n",
            " lstm (LSTM)                 (None, 100, 64)           93440     \n",
            "                                                                 \n",
            " time_distributed_3 (TimeDi  (None, 100, 13)           845       \n",
            " stributed)                                                      \n",
            "                                                                 \n",
            "=================================================================\n",
            "Total params: 17928985 (68.39 MB)\n",
            "Trainable params: 17928985 (68.39 MB)\n",
            "Non-trainable params: 0 (0.00 Byte)\n",
            "_________________________________________________________________\n"
          ]
        }
      ],
      "source": [
        "# check summary of the model\n",
        "lstm_model.summary()"
      ]
    },
    {
      "cell_type": "markdown",
      "metadata": {
        "id": "d-xBjhFIfhvo"
      },
      "source": [
        "## Fit model"
      ]
    },
    {
      "cell_type": "code",
      "execution_count": 57,
      "metadata": {
        "id": "i-83zsowfhvo",
        "colab": {
          "base_uri": "https://localhost:8080/"
        },
        "outputId": "ba11e103-42a3-42e6-cdf7-439a6b5a67d0"
      },
      "outputs": [
        {
          "output_type": "stream",
          "name": "stdout",
          "text": [
            "Epoch 1/10\n",
            "408/408 [==============================] - 41s 90ms/step - loss: 0.3012 - acc: 0.9303 - val_loss: 0.0465 - val_acc: 0.9872\n",
            "Epoch 2/10\n",
            "408/408 [==============================] - 12s 30ms/step - loss: 0.0336 - acc: 0.9896 - val_loss: 0.0296 - val_acc: 0.9900\n",
            "Epoch 3/10\n",
            "408/408 [==============================] - 11s 27ms/step - loss: 0.0235 - acc: 0.9917 - val_loss: 0.0262 - val_acc: 0.9907\n",
            "Epoch 4/10\n",
            "408/408 [==============================] - 9s 22ms/step - loss: 0.0199 - acc: 0.9928 - val_loss: 0.0247 - val_acc: 0.9911\n",
            "Epoch 5/10\n",
            "408/408 [==============================] - 7s 16ms/step - loss: 0.0177 - acc: 0.9935 - val_loss: 0.0240 - val_acc: 0.9913\n",
            "Epoch 6/10\n",
            "408/408 [==============================] - 8s 20ms/step - loss: 0.0160 - acc: 0.9941 - val_loss: 0.0238 - val_acc: 0.9916\n",
            "Epoch 7/10\n",
            "408/408 [==============================] - 6s 15ms/step - loss: 0.0144 - acc: 0.9948 - val_loss: 0.0238 - val_acc: 0.9916\n",
            "Epoch 8/10\n",
            "408/408 [==============================] - 7s 18ms/step - loss: 0.0130 - acc: 0.9953 - val_loss: 0.0240 - val_acc: 0.9917\n",
            "Epoch 9/10\n",
            "408/408 [==============================] - 7s 17ms/step - loss: 0.0116 - acc: 0.9959 - val_loss: 0.0246 - val_acc: 0.9917\n",
            "Epoch 10/10\n",
            "408/408 [==============================] - 6s 16ms/step - loss: 0.0102 - acc: 0.9964 - val_loss: 0.0254 - val_acc: 0.9916\n"
          ]
        }
      ],
      "source": [
        "lstm_training = lstm_model.fit(X_train, Y_train, batch_size=128, epochs=10, validation_data=(X_validation, Y_validation))"
      ]
    },
    {
      "cell_type": "code",
      "execution_count": 58,
      "metadata": {
        "id": "PfdIJXkHfhvo",
        "colab": {
          "base_uri": "https://localhost:8080/",
          "height": 472
        },
        "outputId": "50dcd7a8-1000-4218-fa76-c1215229ac10"
      },
      "outputs": [
        {
          "output_type": "display_data",
          "data": {
            "text/plain": [
              "<Figure size 640x480 with 1 Axes>"
            ],
            "image/png": "[encoded data removed]"
          },
          "metadata": {}
        }
      ],
      "source": [
        "# visualise training history\n",
        "plt.plot(lstm_training.history['acc'])\n",
        "plt.plot(lstm_training.history['val_acc'])\n",
        "plt.title('model accuracy')\n",
        "plt.ylabel('accuracy')\n",
        "plt.xlabel('epoch')\n",
        "plt.legend(['train', 'test'], loc=\"lower right\")\n",
        "plt.show()"
      ]
    },
    {
      "cell_type": "markdown",
      "metadata": {
        "collapsed": true,
        "id": "adQAHlqtfhvo"
      },
      "source": [
        "# 2. GRU"
      ]
    },
    {
      "cell_type": "markdown",
      "metadata": {
        "id": "e_D-9LThfhvo"
      },
      "source": [
        "## Create model architecture"
      ]
    },
    {
      "cell_type": "code",
      "execution_count": 59,
      "metadata": {
        "id": "S78L32NTfhvo"
      },
      "outputs": [],
      "source": [
        "# create architecture\n",
        "\n",
        "gru_model = Sequential()\n",
        "gru_model.add(Embedding(input_dim     = VOCABULARY_SIZE,\n",
        "                        output_dim    = EMBEDDING_SIZE,\n",
        "                        input_length  = MAX_SEQ_LENGTH,\n",
        "                        weights       = [embedding_weights],\n",
        "                        trainable     = True\n",
        "))\n",
        "gru_model.add(GRU(64, return_sequences=True))\n",
        "gru_model.add(TimeDistributed(Dense(NUM_CLASSES, activation='softmax')))"
      ]
    },
    {
      "cell_type": "markdown",
      "metadata": {
        "id": "Ch25aJ97fhvo"
      },
      "source": [
        "## Compile model"
      ]
    },
    {
      "cell_type": "code",
      "execution_count": 60,
      "metadata": {
        "id": "y8NOyyFofhvo"
      },
      "outputs": [],
      "source": [
        "gru_model.compile(loss='categorical_crossentropy',\n",
        "              optimizer='adam',\n",
        "              metrics=['acc'])"
      ]
    },
    {
      "cell_type": "code",
      "execution_count": 61,
      "metadata": {
        "id": "9wtuS1affhvo",
        "colab": {
          "base_uri": "https://localhost:8080/"
        },
        "outputId": "ae29749c-6b7c-4721-b84e-7855209045f8"
      },
      "outputs": [
        {
          "output_type": "stream",
          "name": "stdout",
          "text": [
            "Model: \"sequential_4\"\n",
            "_________________________________________________________________\n",
            " Layer (type)                Output Shape              Param #   \n",
            "=================================================================\n",
            " embedding_4 (Embedding)     (None, 100, 300)          17834700  \n",
            "                                                                 \n",
            " gru (GRU)                   (None, 100, 64)           70272     \n",
            "                                                                 \n",
            " time_distributed_4 (TimeDi  (None, 100, 13)           845       \n",
            " stributed)                                                      \n",
            "                                                                 \n",
            "=================================================================\n",
            "Total params: 17905817 (68.31 MB)\n",
            "Trainable params: 17905817 (68.31 MB)\n",
            "Non-trainable params: 0 (0.00 Byte)\n",
            "_________________________________________________________________\n"
          ]
        }
      ],
      "source": [
        "# check summary of model\n",
        "gru_model.summary()"
      ]
    },
    {
      "cell_type": "markdown",
      "metadata": {
        "id": "mH40wzhcfhvo"
      },
      "source": [
        "## Fit model"
      ]
    },
    {
      "cell_type": "code",
      "execution_count": 62,
      "metadata": {
        "id": "PWndfgFQfhvo",
        "colab": {
          "base_uri": "https://localhost:8080/"
        },
        "outputId": "cdf803b3-cb50-491c-b2a9-712d7b188a84"
      },
      "outputs": [
        {
          "output_type": "stream",
          "name": "stdout",
          "text": [
            "Epoch 1/10\n",
            "408/408 [==============================] - 39s 90ms/step - loss: 0.2267 - acc: 0.9578 - val_loss: 0.0356 - val_acc: 0.9885\n",
            "Epoch 2/10\n",
            "408/408 [==============================] - 14s 34ms/step - loss: 0.0276 - acc: 0.9904 - val_loss: 0.0270 - val_acc: 0.9904\n",
            "Epoch 3/10\n",
            "408/408 [==============================] - 8s 19ms/step - loss: 0.0208 - acc: 0.9923 - val_loss: 0.0249 - val_acc: 0.9909\n",
            "Epoch 4/10\n",
            "408/408 [==============================] - 8s 20ms/step - loss: 0.0181 - acc: 0.9932 - val_loss: 0.0240 - val_acc: 0.9912\n",
            "Epoch 5/10\n",
            "408/408 [==============================] - 7s 16ms/step - loss: 0.0163 - acc: 0.9939 - val_loss: 0.0237 - val_acc: 0.9914\n",
            "Epoch 6/10\n",
            "408/408 [==============================] - 7s 17ms/step - loss: 0.0150 - acc: 0.9944 - val_loss: 0.0239 - val_acc: 0.9914\n",
            "Epoch 7/10\n",
            "408/408 [==============================] - 6s 15ms/step - loss: 0.0138 - acc: 0.9948 - val_loss: 0.0241 - val_acc: 0.9915\n",
            "Epoch 8/10\n",
            "408/408 [==============================] - 7s 18ms/step - loss: 0.0127 - acc: 0.9952 - val_loss: 0.0246 - val_acc: 0.9915\n",
            "Epoch 9/10\n",
            "408/408 [==============================] - 6s 15ms/step - loss: 0.0116 - acc: 0.9957 - val_loss: 0.0255 - val_acc: 0.9914\n",
            "Epoch 10/10\n",
            "408/408 [==============================] - 6s 15ms/step - loss: 0.0106 - acc: 0.9961 - val_loss: 0.0261 - val_acc: 0.9915\n"
          ]
        }
      ],
      "source": [
        "gru_training = gru_model.fit(X_train, Y_train, batch_size=128, epochs=10, validation_data=(X_validation, Y_validation))"
      ]
    },
    {
      "cell_type": "code",
      "execution_count": 63,
      "metadata": {
        "id": "v8NWetu5fhvo",
        "colab": {
          "base_uri": "https://localhost:8080/",
          "height": 472
        },
        "outputId": "00388e09-6761-4a43-f102-f80266a48c4f"
      },
      "outputs": [
        {
          "output_type": "display_data",
          "data": {
            "text/plain": [
              "<Figure size 640x480 with 1 Axes>"
            ],
            "image/png": "[encoded data removed]"
          },
          "metadata": {}
        }
      ],
      "source": [
        "# visualise training history\n",
        "plt.plot(gru_training.history['acc'])\n",
        "plt.plot(gru_training.history['val_acc'])\n",
        "plt.title('model accuracy')\n",
        "plt.ylabel('accuracy')\n",
        "plt.xlabel('epoch')\n",
        "plt.legend(['train', 'test'], loc=\"lower right\")\n",
        "plt.show()"
      ]
    },
    {
      "cell_type": "markdown",
      "metadata": {
        "id": "x6_hjvUQfhvo"
      },
      "source": [
        "# 3. Bidirectional LSTM"
      ]
    },
    {
      "cell_type": "markdown",
      "metadata": {
        "id": "_k6XObjBfhvp"
      },
      "source": [
        "## Create model architecture"
      ]
    },
    {
      "cell_type": "code",
      "execution_count": 64,
      "metadata": {
        "id": "1zTGU91afhvp"
      },
      "outputs": [],
      "source": [
        "# create architecture\n",
        "\n",
        "bidirect_model = Sequential()\n",
        "bidirect_model.add(Embedding(input_dim     = VOCABULARY_SIZE,\n",
        "                             output_dim    = EMBEDDING_SIZE,\n",
        "                             input_length  = MAX_SEQ_LENGTH,\n",
        "                             weights       = [embedding_weights],\n",
        "                             trainable     = True\n",
        "))\n",
        "bidirect_model.add(Bidirectional(LSTM(64, return_sequences=True)))\n",
        "bidirect_model.add(TimeDistributed(Dense(NUM_CLASSES, activation='softmax')))"
      ]
    },
    {
      "cell_type": "markdown",
      "metadata": {
        "id": "vIjOJxhifhvp"
      },
      "source": [
        "## Compile model"
      ]
    },
    {
      "cell_type": "code",
      "execution_count": 65,
      "metadata": {
        "id": "Us-0jcm2fhvp"
      },
      "outputs": [],
      "source": [
        "bidirect_model.compile(loss='categorical_crossentropy',\n",
        "              optimizer='adam',\n",
        "              metrics=['acc'])"
      ]
    },
    {
      "cell_type": "code",
      "execution_count": 66,
      "metadata": {
        "id": "SxIKXOwIfhvp",
        "colab": {
          "base_uri": "https://localhost:8080/"
        },
        "outputId": "9b1bd697-5870-40fa-b73f-153c0728f3d5"
      },
      "outputs": [
        {
          "output_type": "stream",
          "name": "stdout",
          "text": [
            "Model: \"sequential_5\"\n",
            "_________________________________________________________________\n",
            " Layer (type)                Output Shape              Param #   \n",
            "=================================================================\n",
            " embedding_5 (Embedding)     (None, 100, 300)          17834700  \n",
            "                                                                 \n",
            " bidirectional (Bidirection  (None, 100, 128)          186880    \n",
            " al)                                                             \n",
            "                                                                 \n",
            " time_distributed_5 (TimeDi  (None, 100, 13)           1677      \n",
            " stributed)                                                      \n",
            "                                                                 \n",
            "=================================================================\n",
            "Total params: 18023257 (68.75 MB)\n",
            "Trainable params: 18023257 (68.75 MB)\n",
            "Non-trainable params: 0 (0.00 Byte)\n",
            "_________________________________________________________________\n"
          ]
        }
      ],
      "source": [
        "# check summary of model\n",
        "bidirect_model.summary()"
      ]
    },
    {
      "cell_type": "markdown",
      "metadata": {
        "id": "Kz_WbpGcfhvp"
      },
      "source": [
        "## Fit model"
      ]
    },
    {
      "cell_type": "code",
      "execution_count": 67,
      "metadata": {
        "id": "vnp5YuzUfhvp",
        "colab": {
          "base_uri": "https://localhost:8080/"
        },
        "outputId": "b4a6ff60-1909-43d3-84a6-339b7c10d9f4"
      },
      "outputs": [
        {
          "output_type": "stream",
          "name": "stdout",
          "text": [
            "Epoch 1/10\n",
            "408/408 [==============================] - 44s 100ms/step - loss: 0.2366 - acc: 0.9437 - val_loss: 0.0314 - val_acc: 0.9904\n",
            "Epoch 2/10\n",
            "408/408 [==============================] - 15s 37ms/step - loss: 0.0233 - acc: 0.9925 - val_loss: 0.0219 - val_acc: 0.9927\n",
            "Epoch 3/10\n",
            "408/408 [==============================] - 12s 30ms/step - loss: 0.0160 - acc: 0.9947 - val_loss: 0.0194 - val_acc: 0.9935\n",
            "Epoch 4/10\n",
            "408/408 [==============================] - 10s 25ms/step - loss: 0.0127 - acc: 0.9958 - val_loss: 0.0184 - val_acc: 0.9938\n",
            "Epoch 5/10\n",
            "408/408 [==============================] - 10s 24ms/step - loss: 0.0104 - acc: 0.9966 - val_loss: 0.0181 - val_acc: 0.9939\n",
            "Epoch 6/10\n",
            "408/408 [==============================] - 10s 23ms/step - loss: 0.0085 - acc: 0.9973 - val_loss: 0.0181 - val_acc: 0.9941\n",
            "Epoch 7/10\n",
            "408/408 [==============================] - 10s 25ms/step - loss: 0.0067 - acc: 0.9979 - val_loss: 0.0187 - val_acc: 0.9941\n",
            "Epoch 8/10\n",
            "408/408 [==============================] - 9s 22ms/step - loss: 0.0053 - acc: 0.9984 - val_loss: 0.0198 - val_acc: 0.9940\n",
            "Epoch 9/10\n",
            "408/408 [==============================] - 9s 22ms/step - loss: 0.0041 - acc: 0.9988 - val_loss: 0.0209 - val_acc: 0.9939\n",
            "Epoch 10/10\n",
            "408/408 [==============================] - 10s 25ms/step - loss: 0.0032 - acc: 0.9991 - val_loss: 0.0225 - val_acc: 0.9937\n"
          ]
        }
      ],
      "source": [
        "bidirect_training = bidirect_model.fit(X_train, Y_train, batch_size=128, epochs=10, validation_data=(X_validation, Y_validation))"
      ]
    },
    {
      "cell_type": "code",
      "execution_count": 68,
      "metadata": {
        "id": "8QlYcBN1fhvp",
        "colab": {
          "base_uri": "https://localhost:8080/",
          "height": 472
        },
        "outputId": "31ad15de-9bd3-480b-f4b8-4d7c8f26132e"
      },
      "outputs": [
        {
          "output_type": "display_data",
          "data": {
            "text/plain": [
              "<Figure size 640x480 with 1 Axes>"
            ],
            "image/png": "[encoded data removed]"
          },
          "metadata": {}
        }
      ],
      "source": [
        "# visualise training history\n",
        "plt.plot(bidirect_training.history['acc'])\n",
        "plt.plot(bidirect_training.history['val_acc'])\n",
        "plt.title('model accuracy')\n",
        "plt.ylabel('accuracy')\n",
        "plt.xlabel('epoch')\n",
        "plt.legend(['train', 'test'], loc=\"lower right\")\n",
        "plt.show()"
      ]
    },
    {
      "cell_type": "markdown",
      "metadata": {
        "id": "yC7_4aVmfhvq"
      },
      "source": [
        "# 5. Model evaluation"
      ]
    },
    {
      "cell_type": "code",
      "execution_count": 69,
      "metadata": {
        "id": "5r171Gfufhvq",
        "colab": {
          "base_uri": "https://localhost:8080/"
        },
        "outputId": "deabb905-6a8e-4c38-c7c8-1da2bb3a6379"
      },
      "outputs": [
        {
          "output_type": "stream",
          "name": "stdout",
          "text": [
            "339/339 [==============================] - 3s 10ms/step - loss: 0.0299 - acc: 0.9907\n",
            "Loss: 0.029898272827267647,\n",
            "Accuracy: 0.9906545877456665\n"
          ]
        }
      ],
      "source": [
        "loss, accuracy = rnn_model.evaluate(X_test, Y_test, verbose = 1)\n",
        "print(\"Loss: {0},\\nAccuracy: {1}\".format(loss, accuracy))"
      ]
    },
    {
      "cell_type": "code",
      "execution_count": 70,
      "metadata": {
        "id": "6LDPzLoNfhvq",
        "colab": {
          "base_uri": "https://localhost:8080/"
        },
        "outputId": "604d8104-2d94-427c-a7ea-2357656d3359"
      },
      "outputs": [
        {
          "output_type": "stream",
          "name": "stdout",
          "text": [
            "339/339 [==============================] - 1s 4ms/step - loss: 0.0254 - acc: 0.9916\n",
            "Loss: 0.025436952710151672,\n",
            "Accuracy: 0.9916083216667175\n"
          ]
        }
      ],
      "source": [
        "loss, accuracy = lstm_model.evaluate(X_test, Y_test, verbose = 1)\n",
        "print(\"Loss: {0},\\nAccuracy: {1}\".format(loss, accuracy))"
      ]
    },
    {
      "cell_type": "code",
      "execution_count": 71,
      "metadata": {
        "id": "5VJmEOeBfhvq",
        "colab": {
          "base_uri": "https://localhost:8080/"
        },
        "outputId": "347d3198-c623-4739-8112-1f50a7b63aa6"
      },
      "outputs": [
        {
          "output_type": "stream",
          "name": "stdout",
          "text": [
            "339/339 [==============================] - 1s 4ms/step - loss: 0.0258 - acc: 0.9915\n",
            "Loss: 0.025756387040019035,\n",
            "Accuracy: 0.9915474057197571\n"
          ]
        }
      ],
      "source": [
        "loss, accuracy = gru_model.evaluate(X_test, Y_test, verbose = 1)\n",
        "print(\"Loss: {0},\\nAccuracy: {1}\".format(loss, accuracy))"
      ]
    },
    {
      "cell_type": "code",
      "execution_count": 72,
      "metadata": {
        "id": "P-2YEpsmfhvq",
        "colab": {
          "base_uri": "https://localhost:8080/"
        },
        "outputId": "06106cb1-c209-4f8c-9427-3426ebee47f5"
      },
      "outputs": [
        {
          "output_type": "stream",
          "name": "stdout",
          "text": [
            "339/339 [==============================] - 2s 7ms/step - loss: 0.0227 - acc: 0.9938\n",
            "Loss: 0.022716592997312546,\n",
            "Accuracy: 0.9937946796417236\n"
          ]
        }
      ],
      "source": [
        "loss, accuracy = bidirect_model.evaluate(X_test, Y_test, verbose = 1)\n",
        "print(\"Loss: {0},\\nAccuracy: {1}\".format(loss, accuracy))"
      ]
    },
    {
      "cell_type": "code",
      "execution_count": 72,
      "metadata": {
        "id": "1DfOdYNvfhvq"
      },
      "outputs": [],
      "source": []
    }
  ],
  "metadata": {
    "kernelspec": {
      "display_name": "Python 3",
      "name": "python3"
    },
    "language_info": {
      "codemirror_mode": {
        "name": "ipython",
        "version": 3
      },
      "file_extension": ".py",
      "mimetype": "text/x-python",
      "name": "python",
      "nbconvert_exporter": "python",
      "pygments_lexer": "ipython3",
      "version": "3.7.3"
    },
    "colab": {
      "provenance": [],
      "toc_visible": true,
      "gpuType": "T4"
    },
    "accelerator": "GPU"
  },
  "nbformat": 4,
  "nbformat_minor": 0
}